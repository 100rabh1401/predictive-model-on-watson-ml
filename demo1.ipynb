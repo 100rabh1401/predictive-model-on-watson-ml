{
    "nbformat_minor": 1, 
    "cells": [
        {
            "source": "<center><h1> Predict heart failure with Watson Machine Learning</h1></center>\n![alt text](https://www.cdc.gov/dhdsp/images/heart_failure.jpg \"Heart failure\")\n<p>This notebook contains steps and code to create a predictive model to predict heart failure and then deploy that model to Watson Machine Learning so it can be used in an application.</p>\n## Learning Goals\nThe learning goals of this notebook are:\n* Load a CSV file into the  Object Storage Service linked to your Data Science Experience \n* Create an Apache\u00ae Spark machine learning model\n* Train and evaluate a model\n* Persist a model in a Watson Machine Learning repository\n\n## 1. Setup\n\nBefore you use the sample code in this notebook, you must perform the following setup tasks:\n* Create a Watson Machine Learning Service instance (a free plan is offered) and associate it with your project\n* Upload heart failure  data to the Object Store service that is part of your data Science Experience trial\n", 
            "cell_type": "markdown", 
            "metadata": {}
        }, 
        {
            "source": "# IMPORTANT Follow the lab instructions to insert authentication and access info here to get access to the data used in this notebook\ncredentials_1 = {\n  'auth_url':'https://identity.open.softlayer.com',\n  'project':'xxxxxxxxxxxxxxxxxxxxxxxxxxxxxxxx',\n  'project_id':'xxxxxxxxxxxxxxxxxxxxxxxxxxxxxxxx',\n  'region':'xxxxxxxxxxxxxxxxxxxxxxxxxxxxxxxx',\n  'user_id':'xxxxxxxxxxxxxxxxxxxxxxxxxxxxxxxx',\n  'domain_id':'xxxxxxxxxxxxxxxxxxxxxxxxxxxxxxxx',\n  'domain_name':'xxxxxxxxxxxxxxxxxxxxxxxxxxxxxxxx',\n  'username':'xxxxxxxxxxxxxxxxxxxxxxxxxxxxxxxx',\n  'password':\"\"\"xxxxxxxxxxxxxxxxxxxxxxxxxxxxxxxx\"\"\",\n  'container':'xxxxxxxxxxxxxxxxxxxxxxxxxxxxxxxx',\n  'tenantId':'xxxxxxxxxxxxxxxxxxxxxxxxxxxxxxxx',\n  'filename':'xxxxxxxxxxxxxxxxxxxxxxxxxxxxxxxx'\n}\n", 
            "execution_count": null, 
            "cell_type": "code", 
            "metadata": {
                "collapsed": true
            }, 
            "outputs": []
        }, 
        {
            "source": "# The code was removed by DSX for sharing.", 
            "execution_count": 1, 
            "cell_type": "code", 
            "metadata": {
                "collapsed": true
            }, 
            "outputs": []
        }, 
        {
            "source": "## 2. Load and explore data\n<p>In this section you will load the data as an Apache\u00ae Spark DataFrame and perform a basic exploration.</p>\n\n<p>Load the data to the Spark DataFrame from your associated Object Storage instance.</p>", 
            "cell_type": "markdown", 
            "metadata": {}
        }, 
        {
            "source": "# This function is used to setup the access of Spark to your Object Storage. \ndef set_os_config_with_credentials(credentials):\n    \"\"\"This function sets the configuration so it is possible to\n    access data from Bluemix Object Storage using Spark\"\"\"\n   \n    hconf = sc._jsc.hadoopConfiguration()\n    hconf.set('fs.swift.service.keystone.auth.url', credentials['auth_url'] + '/v3/auth/tokens')\n    hconf.set('fs.swift.service.keystone.auth.endpoint.prefix', 'endpoints')\n    hconf.set('fs.swift.service.keystone.tenant', credentials['project_id'])\n    hconf.set('fs.swift.service.keystone.username', credentials['user_id'])\n    hconf.set('fs.swift.service.keystone.password', credentials['password'] )\n    hconf.setInt('fs.swift.service.keystone.http.port', 8080)\n    hconf.set('fs.swift.service.keystone.region', credentials['region'])\n    hconf.setBoolean('fs.swift.service.keystone.public', False)\n    \n# Right side of assignment must match the variable created via the Insert Credentail operation\nmycredentials = credentials_1\n\nset_os_config_with_credentials(mycredentials)\n\nspark = SparkSession.builder.getOrCreate()\n\n# Read data file and create a Data Frame\ndf_data = spark.read\\\n  .format('org.apache.spark.sql.execution.datasources.csv.CSVFileFormat')\\\n  .option('header', 'true')\\\n  .option('inferSchema', 'true')\\\n  .load('swift://' + mycredentials['container'] + '.keystone'  + '/' + mycredentials['filename'])\n\n", 
            "execution_count": 2, 
            "cell_type": "code", 
            "metadata": {
                "collapsed": true
            }, 
            "outputs": []
        }, 
        {
            "source": "Explore the loaded data by using the following Apache\u00ae Spark DataFrame methods:\n* print schema\n* print top ten records\n* count all records", 
            "cell_type": "markdown", 
            "metadata": {}
        }, 
        {
            "source": "df_data.printSchema()", 
            "execution_count": 3, 
            "cell_type": "code", 
            "metadata": {}, 
            "outputs": [
                {
                    "name": "stdout", 
                    "text": "root\n |-- AVGHEARTBEATSPERMIN: integer (nullable = true)\n |-- PALPITATIONSPERDAY: integer (nullable = true)\n |-- CHOLESTEROL: integer (nullable = true)\n |-- BMI: integer (nullable = true)\n |-- HEARTFAILURE: string (nullable = true)\n |-- AGE: integer (nullable = true)\n |-- SEX: string (nullable = true)\n |-- FAMILYHISTORY: string (nullable = true)\n |-- SMOKERLAST5YRS: string (nullable = true)\n |-- EXERCISEMINPERWEEK: integer (nullable = true)\n\n", 
                    "output_type": "stream"
                }
            ]
        }, 
        {
            "source": "As you can see, the data contains ten  fields. The  HEARTFAILURE field is the one we would like to predict (label).", 
            "cell_type": "markdown", 
            "metadata": {}
        }, 
        {
            "source": "df_data.show()", 
            "execution_count": null, 
            "cell_type": "code", 
            "metadata": {
                "collapsed": true
            }, 
            "outputs": []
        }, 
        {
            "source": "df_data.count()", 
            "execution_count": null, 
            "cell_type": "code", 
            "metadata": {
                "collapsed": true
            }, 
            "outputs": []
        }, 
        {
            "source": "As you can see, the data set contains 10800 records.\n\n\n## 3. Create an Apache\u00ae Spark machine learning model\nIn this section you will learn how to prepare data, create and train an Apache\u00ae Spark machine learning model.\n\n### 3.1: Prepare data\nIn this subsection you will split your data into: train and  test  data sets.", 
            "cell_type": "markdown", 
            "metadata": {}
        }, 
        {
            "source": "split_data = df_data.randomSplit([0.8, 0.20], 24)\ntrain_data = split_data[0]\ntest_data = split_data[1]\n\n\nprint \"Number of training records: \" + str(train_data.count())\nprint \"Number of testing records : \" + str(test_data.count())", 
            "execution_count": 4, 
            "cell_type": "code", 
            "metadata": {}, 
            "outputs": [
                {
                    "name": "stdout", 
                    "text": "Number of training records: 8637\nNumber of testing records : 2163\n", 
                    "output_type": "stream"
                }
            ]
        }, 
        {
            "source": "As you can see our data has been successfully split into two data sets:\n* The train data set, which is the largest group, is used for training.\n* The test data set will be used for model evaluation and is used to test the assumptions of the model.\n\n### 3.2: Create pipeline and train a model\nIn this section you will create an Apache\u00ae Spark machine learning pipeline and then train the model.\nIn the first step you need to import the Apache\u00ae Spark machine learning packages that will be needed in the subsequent steps.", 
            "cell_type": "markdown", 
            "metadata": {}
        }, 
        {
            "source": "from pyspark.ml.feature import StringIndexer, IndexToString, VectorAssembler\nfrom pyspark.ml.classification import RandomForestClassifier\nfrom pyspark.ml.evaluation import MulticlassClassificationEvaluator\nfrom pyspark.ml import Pipeline, Model", 
            "execution_count": 5, 
            "cell_type": "code", 
            "metadata": {
                "collapsed": true
            }, 
            "outputs": []
        }, 
        {
            "source": "\nIn the following step, convert all the string fields to numeric ones by using the StringIndexer transformer.", 
            "cell_type": "markdown", 
            "metadata": {}
        }, 
        {
            "source": "stringIndexer_label = StringIndexer(inputCol=\"HEARTFAILURE\", outputCol=\"label\").fit(df_data)\nstringIndexer_sex = StringIndexer(inputCol=\"SEX\", outputCol=\"SEX_IX\")\nstringIndexer_famhist = StringIndexer(inputCol=\"FAMILYHISTORY\", outputCol=\"FAMILYHISTORY_IX\")\nstringIndexer_smoker = StringIndexer(inputCol=\"SMOKERLAST5YRS\", outputCol=\"SMOKERLAST5YRS_IX\")", 
            "execution_count": 6, 
            "cell_type": "code", 
            "metadata": {
                "collapsed": true
            }, 
            "outputs": []
        }, 
        {
            "source": "\nIn the following step, create a feature vector by combining all features together.", 
            "cell_type": "markdown", 
            "metadata": {}
        }, 
        {
            "source": "vectorAssembler_features = VectorAssembler(inputCols=[\"AVGHEARTBEATSPERMIN\",\"PALPITATIONSPERDAY\",\"CHOLESTEROL\",\"BMI\",\"AGE\",\"SEX_IX\",\"FAMILYHISTORY_IX\",\"SMOKERLAST5YRS_IX\",\"EXERCISEMINPERWEEK\"], outputCol=\"features\")", 
            "execution_count": 7, 
            "cell_type": "code", 
            "metadata": {
                "collapsed": true
            }, 
            "outputs": []
        }, 
        {
            "source": "Next, define estimators you want to use for classification. Random Forest is used in the following example.", 
            "cell_type": "markdown", 
            "metadata": {}
        }, 
        {
            "source": "rf = RandomForestClassifier(labelCol=\"label\", featuresCol=\"features\")", 
            "execution_count": 8, 
            "cell_type": "code", 
            "metadata": {
                "collapsed": true
            }, 
            "outputs": []
        }, 
        {
            "source": "Finally, indexed labels back to original labels.", 
            "cell_type": "markdown", 
            "metadata": {}
        }, 
        {
            "source": "labelConverter = IndexToString(inputCol=\"prediction\", outputCol=\"predictedLabel\", labels=stringIndexer_label.labels)", 
            "execution_count": 9, 
            "cell_type": "code", 
            "metadata": {
                "collapsed": true
            }, 
            "outputs": []
        }, 
        {
            "source": "Let's build the pipeline now. A pipeline consists of transformers and an estimator.", 
            "cell_type": "markdown", 
            "metadata": {}
        }, 
        {
            "source": "pipeline_rf = Pipeline(stages=[stringIndexer_label, stringIndexer_sex, stringIndexer_famhist, stringIndexer_smoker, vectorAssembler_features, rf, labelConverter])", 
            "execution_count": 10, 
            "cell_type": "code", 
            "metadata": {
                "collapsed": true
            }, 
            "outputs": []
        }, 
        {
            "source": "Now, you can train your Random Forest model by using the previously defined **pipeline** and **training data**.", 
            "cell_type": "markdown", 
            "metadata": {}
        }, 
        {
            "source": "model_rf = pipeline_rf.fit(train_data)", 
            "execution_count": 11, 
            "cell_type": "code", 
            "metadata": {
                "collapsed": true
            }, 
            "outputs": []
        }, 
        {
            "source": "You can check your **model accuracy** now. To evaluate the model, use **test data**.", 
            "cell_type": "markdown", 
            "metadata": {}
        }, 
        {
            "source": "predictions = model_rf.transform(test_data)\nevaluatorRF = MulticlassClassificationEvaluator(labelCol=\"label\", predictionCol=\"prediction\", metricName=\"accuracy\")\naccuracy = evaluatorRF.evaluate(predictions)\nprint(\"Accuracy = %g\" % accuracy)\nprint(\"Test Error = %g\" % (1.0 - accuracy))", 
            "execution_count": 12, 
            "cell_type": "code", 
            "metadata": {}, 
            "outputs": [
                {
                    "name": "stdout", 
                    "text": "Accuracy = 0.867314\nTest Error = 0.132686\n", 
                    "output_type": "stream"
                }
            ]
        }, 
        {
            "source": "You can tune your model now to achieve better accuracy. For simplicity of this example tuning section is omitted.\n## 4. Persist model\nIn this section you will learn how to store your pipeline and model in Watson Machine Learning repository by using Python client libraries.\nFirst, you must import client libraries", 
            "cell_type": "markdown", 
            "metadata": {}
        }, 
        {
            "source": "from repository.mlrepositoryclient import MLRepositoryClient\nfrom repository.mlrepositoryartifact import MLRepositoryArtifact", 
            "execution_count": 13, 
            "cell_type": "code", 
            "metadata": {
                "collapsed": true
            }, 
            "outputs": []
        }, 
        {
            "source": "Authenticate to Watson Machine Learning service on Bluemix.\n**Action:** Put authentication information (username and password)  from your instance of Watson Machine Learning service here", 
            "cell_type": "markdown", 
            "metadata": {}
        }, 
        {
            "source": "service_path = 'https://ibm-watson-ml.mybluemix.net'\nusername = 'xxxxxxxxxxxxxxx'\npassword = 'xxxxxxxxxxxxxxx'", 
            "execution_count": null, 
            "cell_type": "code", 
            "metadata": {
                "collapsed": true
            }, 
            "outputs": []
        }, 
        {
            "source": "# The code was removed by DSX for sharing.", 
            "execution_count": 14, 
            "cell_type": "code", 
            "metadata": {
                "collapsed": true
            }, 
            "outputs": []
        }, 
        {
            "source": "**Tip:** service_path, username and password can be found on Service Credentials tab of the Watson Machine Learning service instance created in Bluemix.", 
            "cell_type": "markdown", 
            "metadata": {}
        }, 
        {
            "source": "ml_repository_client = MLRepositoryClient(service_path)\nml_repository_client.authorize(username, password)", 
            "execution_count": 15, 
            "cell_type": "code", 
            "metadata": {
                "collapsed": true
            }, 
            "outputs": []
        }, 
        {
            "source": "Create model artifact (abstraction layer).", 
            "cell_type": "markdown", 
            "metadata": {}
        }, 
        {
            "source": "model_artifact = MLRepositoryArtifact(model_rf, training_data=train_data, name=\"Heart Failure Prediction Model\")", 
            "execution_count": 16, 
            "cell_type": "code", 
            "metadata": {
                "collapsed": true
            }, 
            "outputs": []
        }, 
        {
            "source": "**Tip:** The MLRepositoryArtifact method expects a trained model object, training data, and a model name. (It is this model name that is displayed by the Watson Machine Learning service).\n## 4.1: Save pipeline and model\u00b6\nIn this subsection you will learn how to save pipeline and model artifacts to your Watson Machine Learning instance.", 
            "cell_type": "markdown", 
            "metadata": {}
        }, 
        {
            "source": "saved_model = ml_repository_client.models.save(model_artifact)", 
            "execution_count": 17, 
            "cell_type": "code", 
            "metadata": {
                "collapsed": true
            }, 
            "outputs": []
        }, 
        {
            "source": "Get saved model metadata from Watson Machine Learning.\n**Tip:** Use *meta.availableProps* to get the list of available props.", 
            "cell_type": "markdown", 
            "metadata": {}
        }, 
        {
            "source": "saved_model.meta.available_props()", 
            "execution_count": 18, 
            "cell_type": "code", 
            "metadata": {}, 
            "outputs": [
                {
                    "data": {
                        "text/plain": "['inputDataSchema',\n 'evaluationMetrics',\n 'pipelineVersionHref',\n 'modelVersionHref',\n 'trainingDataRef',\n 'pipelineType',\n 'creationTime',\n 'lastUpdated',\n 'label',\n 'authorEmail',\n 'trainingDataSchema',\n 'authorName',\n 'version',\n 'modelType',\n 'runtime',\n 'evaluationMethod']"
                    }, 
                    "execution_count": 18, 
                    "metadata": {}, 
                    "output_type": "execute_result"
                }
            ]
        }, 
        {
            "source": "print \"modelType: \" + saved_model.meta.prop(\"modelType\")\nprint \"trainingDataSchema: \" + str(saved_model.meta.prop(\"trainingDataSchema\"))\nprint \"creationTime: \" + str(saved_model.meta.prop(\"creationTime\"))\nprint \"modelVersionHref: \" + saved_model.meta.prop(\"modelVersionHref\")\nprint \"label: \" + saved_model.meta.prop(\"label\")", 
            "execution_count": 19, 
            "cell_type": "code", 
            "metadata": {}, 
            "outputs": [
                {
                    "name": "stdout", 
                    "text": "modelType: sparkml-model-2.0\ntrainingDataSchema: {u'fields': [{u'nullable': True, u'type': u'integer', u'name': u'AVGHEARTBEATSPERMIN', u'metadata': {}}, {u'nullable': True, u'type': u'integer', u'name': u'PALPITATIONSPERDAY', u'metadata': {}}, {u'nullable': True, u'type': u'integer', u'name': u'CHOLESTEROL', u'metadata': {}}, {u'nullable': True, u'type': u'integer', u'name': u'BMI', u'metadata': {}}, {u'nullable': True, u'type': u'string', u'name': u'HEARTFAILURE', u'metadata': {}}, {u'nullable': True, u'type': u'integer', u'name': u'AGE', u'metadata': {}}, {u'nullable': True, u'type': u'string', u'name': u'SEX', u'metadata': {}}, {u'nullable': True, u'type': u'string', u'name': u'FAMILYHISTORY', u'metadata': {}}, {u'nullable': True, u'type': u'string', u'name': u'SMOKERLAST5YRS', u'metadata': {}}, {u'nullable': True, u'type': u'integer', u'name': u'EXERCISEMINPERWEEK', u'metadata': {}}], u'type': u'struct'}\ncreationTime: 2017-08-17 21:13:56.527000+00:00\nmodelVersionHref: https://ibm-watson-ml.mybluemix.net/v2/artifacts/models/51e2331c-c0ed-4217-b00f-f815f8fbe65a/versions/68d542c1-5cbd-4749-bad1-a389d2b3aed9\nlabel: HEARTFAILURE\n", 
                    "output_type": "stream"
                }
            ]
        }, 
        {
            "source": "\n## 4.2 Load model to verify that it was saved correctly\nYou can load your model  to make sure that it was saved  correctly.", 
            "cell_type": "markdown", 
            "metadata": {}
        }, 
        {
            "source": "loadedModelArtifact = ml_repository_client.models.get(saved_model.uid)", 
            "execution_count": 20, 
            "cell_type": "code", 
            "metadata": {
                "collapsed": true
            }, 
            "outputs": []
        }, 
        {
            "source": "Print the  model name to make sure that model artifact has been loaded correctly.", 
            "cell_type": "markdown", 
            "metadata": {}
        }, 
        {
            "source": "print str(loadedModelArtifact.name)", 
            "execution_count": 21, 
            "cell_type": "code", 
            "metadata": {}, 
            "outputs": [
                {
                    "name": "stdout", 
                    "text": "Heart Failure Prediction Model\n", 
                    "output_type": "stream"
                }
            ]
        }, 
        {
            "source": "Congratulations. You've sucessfully created a predictive model and saved it in the Watson Machine Learning service. You can now switch to the Watson Machine Learning console to deploy the model and then test it in application\n", 
            "cell_type": "markdown", 
            "metadata": {}
        }
    ], 
    "nbformat": 4, 
    "metadata": {
        "kernelspec": {
            "name": "python2-spark20", 
            "language": "python", 
            "display_name": "Python 2 with Spark 2.0"
        }, 
        "language_info": {
            "codemirror_mode": {
                "name": "ipython", 
                "version": 2
            }, 
            "name": "python", 
            "pygments_lexer": "ipython2", 
            "mimetype": "text/x-python", 
            "nbconvert_exporter": "python", 
            "file_extension": ".py", 
            "version": "2.7.11"
        }, 
        "celltoolbar": "Raw Cell Format"
    }
}